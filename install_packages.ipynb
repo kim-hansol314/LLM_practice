{
 "cells": [
  {
   "cell_type": "code",
   "execution_count": 9,
   "id": "e9e3b23e",
   "metadata": {},
   "outputs": [
    {
     "name": "stdout",
     "output_type": "stream",
     "text": [
      "Collecting prompts\n",
      "  Downloading prompts-0.0.1-py3-none-any.whl.metadata (259 bytes)\n",
      "Downloading prompts-0.0.1-py3-none-any.whl (1.2 kB)\n",
      "Installing collected packages: prompts\n",
      "Successfully installed prompts-0.0.1\n"
     ]
    }
   ],
   "source": [
    "!pip install prompts"
   ]
  }
 ],
 "metadata": {
  "kernelspec": {
   "display_name": "vectordb_env",
   "language": "python",
   "name": "python3"
  },
  "language_info": {
   "codemirror_mode": {
    "name": "ipython",
    "version": 3
   },
   "file_extension": ".py",
   "mimetype": "text/x-python",
   "name": "python",
   "nbconvert_exporter": "python",
   "pygments_lexer": "ipython3",
   "version": "3.9.21"
  }
 },
 "nbformat": 4,
 "nbformat_minor": 5
}
